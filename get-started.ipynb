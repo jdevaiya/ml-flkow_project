{
 "cells": [
  {
   "cell_type": "markdown",
   "id": "7bed338d",
   "metadata": {},
   "source": [
    "## MLFLow Tracking Server"
   ]
  },
  {
   "cell_type": "code",
   "execution_count": 1,
   "id": "47885a3c",
   "metadata": {},
   "outputs": [],
   "source": [
    "import mlflow"
   ]
  },
  {
   "cell_type": "code",
   "execution_count": 4,
   "id": "93499bd3",
   "metadata": {},
   "outputs": [],
   "source": [
    "mlflow.set_tracking_uri(\"http://127.0.0.1:5000\")"
   ]
  },
  {
   "cell_type": "code",
   "execution_count": 5,
   "id": "9e58a232",
   "metadata": {},
   "outputs": [
    {
     "name": "stderr",
     "output_type": "stream",
     "text": [
      "2025/07/20 09:21:55 INFO mlflow.tracking.fluent: Experiment with name 'Check localhost connection' does not exist. Creating a new experiment.\n"
     ]
    },
    {
     "name": "stdout",
     "output_type": "stream",
     "text": [
      "🏃 View run fortunate-turtle-458 at: http://127.0.0.1:5000/#/experiments/871862359826256396/runs/9125e917758d4d45b8d879ad23a4ef88\n",
      "🧪 View experiment at: http://127.0.0.1:5000/#/experiments/871862359826256396\n"
     ]
    }
   ],
   "source": [
    "mlflow.set_experiment(\"Check localhost connection\")\n",
    "\n",
    "with mlflow.start_run():\n",
    "    mlflow.log_metric(\"test\",1)\n",
    "    mlflow.log_metric(\"Jayendra\",2)"
   ]
  },
  {
   "cell_type": "code",
   "execution_count": 6,
   "id": "d02e9885",
   "metadata": {},
   "outputs": [
    {
     "name": "stdout",
     "output_type": "stream",
     "text": [
      "🏃 View run dapper-penguin-770 at: http://127.0.0.1:5000/#/experiments/871862359826256396/runs/1d8a905a50144abd8fdb6deb606f2245\n",
      "🧪 View experiment at: http://127.0.0.1:5000/#/experiments/871862359826256396\n"
     ]
    }
   ],
   "source": [
    "with mlflow.start_run():\n",
    "    mlflow.log_metric(\"test\",1)\n",
    "    mlflow.log_metric(\"Jayendra\",2)"
   ]
  },
  {
   "cell_type": "code",
   "execution_count": 7,
   "id": "8ac7476b",
   "metadata": {},
   "outputs": [
    {
     "name": "stdout",
     "output_type": "stream",
     "text": [
      "🏃 View run auspicious-fowl-594 at: http://127.0.0.1:5000/#/experiments/871862359826256396/runs/ced226008ac148958901fe819ad8c2e6\n",
      "🧪 View experiment at: http://127.0.0.1:5000/#/experiments/871862359826256396\n"
     ]
    }
   ],
   "source": [
    "with mlflow.start_run():\n",
    "    mlflow.log_metric(\"test\",2)\n",
    "    mlflow.log_metric(\"Jayendra\",3)"
   ]
  },
  {
   "cell_type": "code",
   "execution_count": null,
   "id": "94028126",
   "metadata": {},
   "outputs": [],
   "source": []
  }
 ],
 "metadata": {
  "kernelspec": {
   "display_name": "Python 3",
   "language": "python",
   "name": "python3"
  },
  "language_info": {
   "codemirror_mode": {
    "name": "ipython",
    "version": 3
   },
   "file_extension": ".py",
   "mimetype": "text/x-python",
   "name": "python",
   "nbconvert_exporter": "python",
   "pygments_lexer": "ipython3",
   "version": "3.10.0"
  }
 },
 "nbformat": 4,
 "nbformat_minor": 5
}
